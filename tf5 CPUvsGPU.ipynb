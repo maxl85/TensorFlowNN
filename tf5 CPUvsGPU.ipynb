{
 "cells": [
  {
   "cell_type": "code",
   "execution_count": 1,
   "metadata": {
    "collapsed": true
   },
   "outputs": [],
   "source": [
    "import time\n",
    "import tensorflow as tf\n",
    "import matplotlib.pyplot as plt\n",
    "from IPython.core.display import clear_output\n",
    "\n",
    "%matplotlib inline"
   ]
  },
  {
   "cell_type": "code",
   "execution_count": 12,
   "metadata": {
    "collapsed": true
   },
   "outputs": [],
   "source": [
    "matrix_sizes = range(500,5500,500)"
   ]
  },
  {
   "cell_type": "code",
   "execution_count": 13,
   "metadata": {},
   "outputs": [
    {
     "name": "stdout",
     "output_type": "stream",
     "text": [
      "5000\n"
     ]
    }
   ],
   "source": [
    "device_times_cpu = []\n",
    "device_name = \"/cpu:0\"\n",
    "\n",
    "for size in matrix_sizes:\n",
    "    shape = (size,size)\n",
    "    data_type = tf.float32\n",
    "    \n",
    "    with tf.device(device_name):\n",
    "        r1 = tf.random_uniform(shape=shape, minval=0, maxval=1, dtype=data_type)\n",
    "        r2 = tf.random_uniform(shape=shape, minval=0, maxval=1, dtype=data_type)\n",
    "        mul_operation = tf.matmul(r2, r1)\n",
    "    \n",
    "    with tf.Session() as session:\n",
    "        start_time = time.time()\n",
    "        result = session.run(mul_operation)\n",
    "        time_taken = time.time() - start_time\n",
    "        #print(result)\n",
    "        device_times_cpu.append(time_taken)\n",
    "    \n",
    "    print(size)\n",
    "    clear_output(wait=True)"
   ]
  },
  {
   "cell_type": "code",
   "execution_count": 14,
   "metadata": {},
   "outputs": [
    {
     "name": "stdout",
     "output_type": "stream",
     "text": [
      "5000\n"
     ]
    }
   ],
   "source": [
    "device_times_gpu = []\n",
    "device_name = \"/gpu:0\"\n",
    "\n",
    "for size in matrix_sizes:\n",
    "    shape = (size,size)\n",
    "    data_type = tf.float32\n",
    "    \n",
    "    with tf.device(device_name):\n",
    "        r1 = tf.random_uniform(shape=shape, minval=0, maxval=1, dtype=data_type)\n",
    "        r2 = tf.random_uniform(shape=shape, minval=0, maxval=1, dtype=data_type)\n",
    "        mul_operation = tf.matmul(r2, r1)\n",
    "    \n",
    "    with tf.Session() as session:\n",
    "        start_time = time.time()\n",
    "        result = session.run(mul_operation)\n",
    "        time_taken = time.time() - start_time\n",
    "        #print(result)\n",
    "        device_times_gpu.append(time_taken)\n",
    "    \n",
    "    print(size)\n",
    "    clear_output(wait=True)"
   ]
  },
  {
   "cell_type": "code",
   "execution_count": 15,
   "metadata": {},
   "outputs": [
    {
     "data": {
      "text/plain": [
       "<matplotlib.text.Text at 0x6b8fa1b3c8>"
      ]
     },
     "execution_count": 15,
     "metadata": {},
     "output_type": "execute_result"
    },
    {
     "data": {
      "image/png": "[encoded data removed]",
      "text/plain": [
       "<matplotlib.figure.Figure at 0x6b8fbe2630>"
      ]
     },
     "metadata": {},
     "output_type": "display_data"
    }
   ],
   "source": [
    "plt.plot(matrix_sizes, device_times_cpu, 'o-');\n",
    "plt.plot(matrix_sizes, device_times_gpu, 'o-');\n",
    "plt.ylabel('Time')\n",
    "plt.xlabel('Matrix size')"
   ]
  },
  {
   "cell_type": "code",
   "execution_count": 11,
   "metadata": {},
   "outputs": [
    {
     "data": {
      "text/plain": [
       "<matplotlib.text.Text at 0x6b8f1e9240>"
      ]
     },
     "execution_count": 11,
     "metadata": {},
     "output_type": "execute_result"
    },
    {
     "data": {
      "image/png": "[encoded data removed]",
      "text/plain": [
       "<matplotlib.figure.Figure at 0x6b8f8ec6d8>"
      ]
     },
     "metadata": {},
     "output_type": "display_data"
    }
   ],
   "source": [
    "plt.plot(matrix_sizes, device_times_gpu, 'o-');\n",
    "plt.ylabel('Time')\n",
    "plt.xlabel('Matrix size')"
   ]
  },
  {
   "cell_type": "code",
   "execution_count": null,
   "metadata": {
    "collapsed": true
   },
   "outputs": [],
   "source": []
  },
  {
   "cell_type": "code",
   "execution_count": null,
   "metadata": {
    "collapsed": true
   },
   "outputs": [],
   "source": []
  }
 ],
 "metadata": {
  "anaconda-cloud": {},
  "kernelspec": {
   "display_name": "Python [conda env:tfgpu]",
   "language": "python",
   "name": "conda-env-tfgpu-py"
  },
  "language_info": {
   "codemirror_mode": {
    "name": "ipython",
    "version": 3
   },
   "file_extension": ".py",
   "mimetype": "text/x-python",
   "name": "python",
   "nbconvert_exporter": "python",
   "pygments_lexer": "ipython3",
   "version": "3.5.3"
  }
 },
 "nbformat": 4,
 "nbformat_minor": 1
}
