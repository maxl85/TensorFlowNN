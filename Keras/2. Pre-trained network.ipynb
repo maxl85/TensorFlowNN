{
 "cells": [
  {
   "cell_type": "markdown",
   "metadata": {},
   "source": [
    "# Using the bottleneck features of a pre-trained network: 90% accuracy in a minute\n",
    "\n",
    "A more refined approach would be to leverage a network pre-trained on a large dataset. Such a network would have already learned features that are useful for most computer vision problems, and leveraging such features would allow us to reach a better accuracy than any method that would only rely on the available data.\n",
    "\n",
    "We will use the VGG16 architecture, pre-trained on the ImageNet dataset --a model previously featured on this blog. Because the ImageNet dataset contains several \"cat\" classes (persian cat, siamese cat...) and many \"dog\" classes among its total of 1000 classes, this model will already have learned features that are relevant to our classification problem. In fact, it is possible that merely recording the softmax predictions of the model over our data rather than the bottleneck features would be enough to solve our dogs vs. cats classification problem extremely well. However, the method we present here is more likely to generalize well to a broader range of problems, including problems featuring classes absent from ImageNet.\n",
    "\n",
    "Here's what the VGG16 architecture looks like:"
   ]
  },
  {
   "cell_type": "markdown",
   "metadata": {},
   "source": [
    "![](vgg16_original.png)"
   ]
  },
  {
   "cell_type": "markdown",
   "metadata": {},
   "source": [
    "Our strategy will be as follow: we will only instantiate the convolutional part of the model, everything up to the fully-connected layers. We will then run this model on our training and validation data once, recording the output (the \"bottleneck features\" from th VGG16 model: the last activation maps before the fully-connected layers) in two numpy arrays. Then we will train a small fully-connected model on top of the stored features.\n",
    "\n",
    "The reason why we are storing the features offline rather than adding our fully-connected model directly on top of a frozen convolutional base and running the whole thing, is computational effiency. Running VGG16 is expensive, especially if you're working on CPU, and we want to only do it once. Note that this prevents us from using data augmentation.\n",
    "\n",
    "You can find the full code for this experiment [here](https://gist.github.com/fchollet/f35fbc80e066a49d65f1688a7e99f069). You can get the weights file [from Github](https://gist.github.com/baraldilorenzo/07d7802847aaad0a35d3)."
   ]
  },
  {
   "cell_type": "code",
   "execution_count": 1,
   "metadata": {},
   "outputs": [
    {
     "name": "stderr",
     "output_type": "stream",
     "text": [
      "Using TensorFlow backend.\n"
     ]
    }
   ],
   "source": [
    "import numpy as np\n",
    "from keras.preprocessing.image import ImageDataGenerator\n",
    "from keras.models import Sequential\n",
    "from keras.layers import Dropout, Flatten, Dense\n",
    "from keras import applications"
   ]
  },
  {
   "cell_type": "code",
   "execution_count": 2,
   "metadata": {
    "collapsed": true
   },
   "outputs": [],
   "source": [
    "# dimensions of our images.\n",
    "img_width, img_height = 150, 150\n",
    "\n",
    "top_model_weights_path = 'bottleneck_fc_model.h5'\n",
    "train_data_dir = 'data/train'\n",
    "validation_data_dir = 'data/validation'\n",
    "nb_train_samples = 2000\n",
    "nb_validation_samples = 800\n",
    "epochs = 50\n",
    "batch_size = 16"
   ]
  },
  {
   "cell_type": "code",
   "execution_count": 3,
   "metadata": {
    "collapsed": true
   },
   "outputs": [],
   "source": [
    "datagen = ImageDataGenerator(rescale=1. / 255)"
   ]
  },
  {
   "cell_type": "code",
   "execution_count": 4,
   "metadata": {
    "collapsed": true
   },
   "outputs": [],
   "source": [
    "# build the VGG16 network\n",
    "model = applications.VGG16(include_top=False, weights='imagenet')"
   ]
  },
  {
   "cell_type": "code",
   "execution_count": 5,
   "metadata": {},
   "outputs": [
    {
     "name": "stdout",
     "output_type": "stream",
     "text": [
      "Found 2000 images belonging to 2 classes.\n"
     ]
    }
   ],
   "source": [
    "generator = datagen.flow_from_directory(\n",
    "    train_data_dir,\n",
    "    target_size=(img_width, img_height),\n",
    "    batch_size=batch_size,\n",
    "    class_mode=None,\n",
    "    shuffle=False)\n",
    "\n",
    "bottleneck_features_train = model.predict_generator(generator, nb_train_samples//batch_size)"
   ]
  },
  {
   "cell_type": "code",
   "execution_count": 6,
   "metadata": {
    "collapsed": true
   },
   "outputs": [],
   "source": [
    "np.save('bottleneck_features_train.npy', bottleneck_features_train)"
   ]
  },
  {
   "cell_type": "code",
   "execution_count": 7,
   "metadata": {},
   "outputs": [
    {
     "name": "stdout",
     "output_type": "stream",
     "text": [
      "Found 800 images belonging to 2 classes.\n"
     ]
    }
   ],
   "source": [
    "generator = datagen.flow_from_directory(\n",
    "    validation_data_dir,\n",
    "    target_size=(img_width, img_height),\n",
    "    batch_size=batch_size,\n",
    "    class_mode=None,\n",
    "    shuffle=False)\n",
    "\n",
    "bottleneck_features_validation = model.predict_generator(generator, nb_validation_samples//batch_size)"
   ]
  },
  {
   "cell_type": "code",
   "execution_count": 8,
   "metadata": {
    "collapsed": true
   },
   "outputs": [],
   "source": [
    "np.save('bottleneck_features_validation.npy', bottleneck_features_validation)"
   ]
  },
  {
   "cell_type": "markdown",
   "metadata": {},
   "source": [
    "We can then load our saved data and train a small fully-connected model:"
   ]
  },
  {
   "cell_type": "code",
   "execution_count": 9,
   "metadata": {
    "collapsed": true
   },
   "outputs": [],
   "source": [
    "train_data = np.load('bottleneck_features_train.npy')\n",
    "train_labels = np.array([0] * (nb_train_samples // 2) + [1] * (nb_train_samples // 2))"
   ]
  },
  {
   "cell_type": "code",
   "execution_count": 10,
   "metadata": {
    "collapsed": true
   },
   "outputs": [],
   "source": [
    "validation_data = np.load('bottleneck_features_validation.npy')\n",
    "validation_labels = np.array([0] * (nb_validation_samples // 2) + [1] * (nb_validation_samples // 2))"
   ]
  },
  {
   "cell_type": "code",
   "execution_count": 11,
   "metadata": {
    "collapsed": true
   },
   "outputs": [],
   "source": [
    "model = Sequential()\n",
    "model.add(Flatten(input_shape=train_data.shape[1:]))\n",
    "model.add(Dense(256, activation='relu'))\n",
    "model.add(Dropout(0.5))\n",
    "model.add(Dense(1, activation='sigmoid'))"
   ]
  },
  {
   "cell_type": "code",
   "execution_count": 12,
   "metadata": {
    "collapsed": true
   },
   "outputs": [],
   "source": [
    "model.compile(optimizer='rmsprop', loss='binary_crossentropy', metrics=['accuracy'])"
   ]
  },
  {
   "cell_type": "markdown",
   "metadata": {},
   "source": [
    "Thanks to its small size, this model trains very quickly even on CPU (1s per epoch):"
   ]
  },
  {
   "cell_type": "code",
   "execution_count": 13,
   "metadata": {
    "scrolled": true
   },
   "outputs": [
    {
     "name": "stdout",
     "output_type": "stream",
     "text": [
      "Train on 2000 samples, validate on 800 samples\n",
      "Epoch 1/50\n",
      "2000/2000 [==============================] - 2s - loss: 0.9032 - acc: 0.7390 - val_loss: 0.3305 - val_acc: 0.8438\n",
      "Epoch 2/50\n",
      "2000/2000 [==============================] - 1s - loss: 0.3319 - acc: 0.8510 - val_loss: 0.3065 - val_acc: 0.8762\n",
      "Epoch 3/50\n",
      "2000/2000 [==============================] - 1s - loss: 0.2924 - acc: 0.8840 - val_loss: 0.2459 - val_acc: 0.9000\n",
      "Epoch 4/50\n",
      "2000/2000 [==============================] - 1s - loss: 0.2437 - acc: 0.9010 - val_loss: 0.2408 - val_acc: 0.9050\n",
      "Epoch 5/50\n",
      "2000/2000 [==============================] - 1s - loss: 0.2134 - acc: 0.9170 - val_loss: 0.2709 - val_acc: 0.8988\n",
      "Epoch 6/50\n",
      "2000/2000 [==============================] - 1s - loss: 0.1745 - acc: 0.9350 - val_loss: 0.2636 - val_acc: 0.9087\n",
      "Epoch 7/50\n",
      "2000/2000 [==============================] - 1s - loss: 0.1502 - acc: 0.9440 - val_loss: 0.4747 - val_acc: 0.8562\n",
      "Epoch 8/50\n",
      "2000/2000 [==============================] - 1s - loss: 0.1464 - acc: 0.9470 - val_loss: 0.3238 - val_acc: 0.8850\n",
      "Epoch 9/50\n",
      "2000/2000 [==============================] - 1s - loss: 0.1261 - acc: 0.9530 - val_loss: 0.3326 - val_acc: 0.8962\n",
      "Epoch 10/50\n",
      "2000/2000 [==============================] - 1s - loss: 0.1040 - acc: 0.9580 - val_loss: 0.3494 - val_acc: 0.9050\n",
      "Epoch 11/50\n",
      "2000/2000 [==============================] - 1s - loss: 0.1013 - acc: 0.9590 - val_loss: 0.3992 - val_acc: 0.8800\n",
      "Epoch 12/50\n",
      "2000/2000 [==============================] - 1s - loss: 0.0907 - acc: 0.9615 - val_loss: 0.3683 - val_acc: 0.9025\n",
      "Epoch 13/50\n",
      "2000/2000 [==============================] - 1s - loss: 0.0810 - acc: 0.9685 - val_loss: 0.4205 - val_acc: 0.9038\n",
      "Epoch 14/50\n",
      "2000/2000 [==============================] - 1s - loss: 0.0767 - acc: 0.9725 - val_loss: 0.4114 - val_acc: 0.9062\n",
      "Epoch 15/50\n",
      "2000/2000 [==============================] - 1s - loss: 0.0720 - acc: 0.9710 - val_loss: 0.4568 - val_acc: 0.8925\n",
      "Epoch 16/50\n",
      "2000/2000 [==============================] - 1s - loss: 0.0555 - acc: 0.9750 - val_loss: 0.4494 - val_acc: 0.8925\n",
      "Epoch 17/50\n",
      "2000/2000 [==============================] - 1s - loss: 0.0563 - acc: 0.9765 - val_loss: 0.5000 - val_acc: 0.8975\n",
      "Epoch 18/50\n",
      "2000/2000 [==============================] - 1s - loss: 0.0473 - acc: 0.9840 - val_loss: 0.7014 - val_acc: 0.8788\n",
      "Epoch 19/50\n",
      "2000/2000 [==============================] - 1s - loss: 0.0457 - acc: 0.9830 - val_loss: 0.5546 - val_acc: 0.9000\n",
      "Epoch 20/50\n",
      "2000/2000 [==============================] - 1s - loss: 0.0463 - acc: 0.9815 - val_loss: 0.5488 - val_acc: 0.8962\n",
      "Epoch 21/50\n",
      "2000/2000 [==============================] - 1s - loss: 0.0400 - acc: 0.9850 - val_loss: 0.5348 - val_acc: 0.8975\n",
      "Epoch 22/50\n",
      "2000/2000 [==============================] - 1s - loss: 0.0270 - acc: 0.9895 - val_loss: 0.5679 - val_acc: 0.8988\n",
      "Epoch 23/50\n",
      "2000/2000 [==============================] - 1s - loss: 0.0364 - acc: 0.9870 - val_loss: 0.7406 - val_acc: 0.8775\n",
      "Epoch 24/50\n",
      "2000/2000 [==============================] - 1s - loss: 0.0335 - acc: 0.9885 - val_loss: 0.7159 - val_acc: 0.8812\n",
      "Epoch 25/50\n",
      "2000/2000 [==============================] - 1s - loss: 0.0442 - acc: 0.9835 - val_loss: 0.6277 - val_acc: 0.8862\n",
      "Epoch 26/50\n",
      "2000/2000 [==============================] - 1s - loss: 0.0240 - acc: 0.9915 - val_loss: 0.6149 - val_acc: 0.9025\n",
      "Epoch 27/50\n",
      "2000/2000 [==============================] - 1s - loss: 0.0199 - acc: 0.9915 - val_loss: 0.6684 - val_acc: 0.9012\n",
      "Epoch 28/50\n",
      "2000/2000 [==============================] - 1s - loss: 0.0204 - acc: 0.9950 - val_loss: 1.1903 - val_acc: 0.8550\n",
      "Epoch 29/50\n",
      "2000/2000 [==============================] - 1s - loss: 0.0151 - acc: 0.9940 - val_loss: 0.7526 - val_acc: 0.8925\n",
      "Epoch 30/50\n",
      "2000/2000 [==============================] - 1s - loss: 0.0214 - acc: 0.9935 - val_loss: 0.8017 - val_acc: 0.8875\n",
      "Epoch 31/50\n",
      "2000/2000 [==============================] - 1s - loss: 0.0205 - acc: 0.9945 - val_loss: 0.8161 - val_acc: 0.8825\n",
      "Epoch 32/50\n",
      "2000/2000 [==============================] - 1s - loss: 0.0275 - acc: 0.9895 - val_loss: 0.8267 - val_acc: 0.8788\n",
      "Epoch 33/50\n",
      "2000/2000 [==============================] - 1s - loss: 0.0153 - acc: 0.9950 - val_loss: 0.7769 - val_acc: 0.8912\n",
      "Epoch 34/50\n",
      "2000/2000 [==============================] - 1s - loss: 0.0204 - acc: 0.9920 - val_loss: 0.8318 - val_acc: 0.8950\n",
      "Epoch 35/50\n",
      "2000/2000 [==============================] - 1s - loss: 0.0217 - acc: 0.9935 - val_loss: 0.8388 - val_acc: 0.8988\n",
      "Epoch 36/50\n",
      "2000/2000 [==============================] - 1s - loss: 0.0250 - acc: 0.9935 - val_loss: 0.7692 - val_acc: 0.8975\n",
      "Epoch 37/50\n",
      "2000/2000 [==============================] - 1s - loss: 0.0153 - acc: 0.9940 - val_loss: 0.7413 - val_acc: 0.9012\n",
      "Epoch 38/50\n",
      "2000/2000 [==============================] - 1s - loss: 0.0196 - acc: 0.9925 - val_loss: 0.8316 - val_acc: 0.8938\n",
      "Epoch 39/50\n",
      "2000/2000 [==============================] - 1s - loss: 0.0125 - acc: 0.9970 - val_loss: 0.7924 - val_acc: 0.8950\n",
      "Epoch 40/50\n",
      "2000/2000 [==============================] - 1s - loss: 0.0118 - acc: 0.9950 - val_loss: 0.9053 - val_acc: 0.8888\n",
      "Epoch 41/50\n",
      "2000/2000 [==============================] - 1s - loss: 0.0202 - acc: 0.9945 - val_loss: 0.8172 - val_acc: 0.8962\n",
      "Epoch 42/50\n",
      "2000/2000 [==============================] - 1s - loss: 0.0136 - acc: 0.9960 - val_loss: 0.7973 - val_acc: 0.9038\n",
      "Epoch 43/50\n",
      "2000/2000 [==============================] - 1s - loss: 0.0169 - acc: 0.9950 - val_loss: 0.8723 - val_acc: 0.8962\n",
      "Epoch 44/50\n",
      "2000/2000 [==============================] - 1s - loss: 0.0209 - acc: 0.9930 - val_loss: 0.8485 - val_acc: 0.8925\n",
      "Epoch 45/50\n",
      "2000/2000 [==============================] - 1s - loss: 0.0163 - acc: 0.9950 - val_loss: 0.8825 - val_acc: 0.9050\n",
      "Epoch 46/50\n",
      "2000/2000 [==============================] - 1s - loss: 0.0134 - acc: 0.9960 - val_loss: 0.8522 - val_acc: 0.8988\n",
      "Epoch 47/50\n",
      "2000/2000 [==============================] - 1s - loss: 0.0159 - acc: 0.9950 - val_loss: 0.8200 - val_acc: 0.8962\n",
      "Epoch 48/50\n",
      "2000/2000 [==============================] - 1s - loss: 0.0135 - acc: 0.9960 - val_loss: 0.8710 - val_acc: 0.8962\n",
      "Epoch 49/50\n",
      "2000/2000 [==============================] - 1s - loss: 0.0137 - acc: 0.9950 - val_loss: 0.8768 - val_acc: 0.8962\n",
      "Epoch 50/50\n",
      "2000/2000 [==============================] - 1s - loss: 0.0117 - acc: 0.9960 - val_loss: 0.8147 - val_acc: 0.8988\n"
     ]
    }
   ],
   "source": [
    "history = model.fit(train_data, train_labels,\n",
    "          epochs=epochs,\n",
    "          batch_size=batch_size,\n",
    "          validation_data=(validation_data, validation_labels))"
   ]
  },
  {
   "cell_type": "code",
   "execution_count": 18,
   "metadata": {
    "collapsed": true
   },
   "outputs": [],
   "source": [
    "model.save_weights('fc_model.h5')"
   ]
  },
  {
   "cell_type": "markdown",
   "metadata": {},
   "source": [
    "We reach a validation accuracy of 0.90-0.91: not bad at all. This is definitely partly due to the fact that the base model was trained on a dataset that already featured dogs and cats (among hundreds of other classes)."
   ]
  },
  {
   "cell_type": "code",
   "execution_count": 19,
   "metadata": {
    "collapsed": true
   },
   "outputs": [],
   "source": [
    "import matplotlib.pyplot as plt\n",
    "%matplotlib inline"
   ]
  },
  {
   "cell_type": "code",
   "execution_count": 20,
   "metadata": {},
   "outputs": [
    {
     "data": {
      "image/png": "[encoded data removed]",
      "text/plain": [
       "<matplotlib.figure.Figure at 0x5bbd52fd30>"
      ]
     },
     "metadata": {},
     "output_type": "display_data"
    }
   ],
   "source": [
    "# summarize history for accuracy\n",
    "plt.plot(history.history['acc'])\n",
    "plt.plot(history.history['val_acc'])\n",
    "plt.title('model accuracy')\n",
    "plt.ylabel('accuracy')\n",
    "plt.xlabel('epoch')\n",
    "plt.legend(['train', 'test'], loc='upper left');"
   ]
  },
  {
   "cell_type": "code",
   "execution_count": 21,
   "metadata": {},
   "outputs": [
    {
     "data": {
      "image/png": "[encoded data removed]",
      "text/plain": [
       "<matplotlib.figure.Figure at 0x5bbd5c6b00>"
      ]
     },
     "metadata": {},
     "output_type": "display_data"
    }
   ],
   "source": [
    "# summarize history for loss\n",
    "plt.plot(history.history['loss'])\n",
    "plt.plot(history.history['val_loss'])\n",
    "plt.title('model loss')\n",
    "plt.ylabel('loss')\n",
    "plt.xlabel('epoch')\n",
    "plt.legend(['train', 'test'], loc='upper left');"
   ]
  },
  {
   "cell_type": "code",
   "execution_count": null,
   "metadata": {
    "collapsed": true
   },
   "outputs": [],
   "source": []
  },
  {
   "cell_type": "code",
   "execution_count": null,
   "metadata": {
    "collapsed": true
   },
   "outputs": [],
   "source": []
  }
 ],
 "metadata": {
  "anaconda-cloud": {},
  "kernelspec": {
   "display_name": "Python [conda env:tfgpu]",
   "language": "python",
   "name": "conda-env-tfgpu-py"
  },
  "language_info": {
   "codemirror_mode": {
    "name": "ipython",
    "version": 3
   },
   "file_extension": ".py",
   "mimetype": "text/x-python",
   "name": "python",
   "nbconvert_exporter": "python",
   "pygments_lexer": "ipython3",
   "version": "3.5.3"
  }
 },
 "nbformat": 4,
 "nbformat_minor": 1
}
